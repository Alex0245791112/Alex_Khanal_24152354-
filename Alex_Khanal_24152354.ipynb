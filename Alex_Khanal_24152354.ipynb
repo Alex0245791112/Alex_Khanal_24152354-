{
  "cells": [
    {
      "metadata": {
        "id": "5OFZ7UAFsfO5"
      },
      "cell_type": "markdown",
      "source": [
        "This project utilizes a dataset containing 20,000 chess games sourced from Lichess, featuring matches played between 2013 and 2017 by members of the top ~100 teams on lichess.org.\n",
        "The goal is to develop a predictive model that can forecast the outcome of a chess game before it begins, using available game parameters\n",
        "Dataset source: Kaggle - https://www.kaggle.com/datasets/datasnaek/chess"
      ]
    },
    {
      "metadata": {
        "trusted": true,
        "id": "w15N26VLsfO6",
        "outputId": "06ac27b0-f775-4716-87cc-c1cace91148c",
        "colab": {
          "base_uri": "https://localhost:8080/"
        }
      },
      "cell_type": "code",
      "source": [
        "import pandas as pd\n",
        "import numpy as np\n",
        "%matplotlib inline\n",
        "%pylab inline\n",
        "\n",
        "pd.set_option('display.max_columns', 200)"
      ],
      "execution_count": null,
      "outputs": [
        {
          "output_type": "stream",
          "name": "stdout",
          "text": [
            "Populating the interactive namespace from numpy and matplotlib\n"
          ]
        }
      ]
    },
    {
      "metadata": {
        "id": "D-7082zysfO6"
      },
      "cell_type": "markdown",
      "source": [
        "Importing the dataset:"
      ]
    },
    {
      "metadata": {
        "trusted": true,
        "id": "bB8nvjk8sfO7"
      },
      "cell_type": "code",
      "source": [
        "chess_games = pd.read_csv('/content/games.csv', delimiter=',')"
      ],
      "execution_count": null,
      "outputs": []
    },
    {
      "metadata": {
        "trusted": true,
        "id": "JxI1gC8jsfO8",
        "outputId": "67fa9339-41b6-4cdb-9103-928a30dac638",
        "colab": {
          "base_uri": "https://localhost:8080/",
          "height": 1000
        }
      },
      "cell_type": "code",
      "source": [
        "chess_games.head()"
      ],
      "execution_count": null,
      "outputs": [
        {
          "output_type": "execute_result",
          "data": {
            "text/plain": [
              "         id  rated    created_at  last_move_at  turns victory_status winner  \\\n",
              "0  TZJHLljE  False  1.504210e+12  1.504210e+12     13      outoftime  white   \n",
              "1  l1NXvwaE   True  1.504130e+12  1.504130e+12     16         resign  black   \n",
              "2  mIICvQHh   True  1.504130e+12  1.504130e+12     61           mate  white   \n",
              "3  kWKvrqYL   True  1.504110e+12  1.504110e+12     61           mate  white   \n",
              "4  9tXo1AUZ   True  1.504030e+12  1.504030e+12     95           mate  white   \n",
              "\n",
              "  increment_code       white_id  white_rating      black_id  black_rating  \\\n",
              "0           15+2       bourgris          1500          a-00          1191   \n",
              "1           5+10           a-00          1322     skinnerua          1261   \n",
              "2           5+10         ischia          1496          a-00          1500   \n",
              "3           20+0  daniamurashov          1439  adivanov2009          1454   \n",
              "4           30+3      nik221107          1523  adivanov2009          1469   \n",
              "\n",
              "                                               moves opening_eco  \\\n",
              "0  d4 d5 c4 c6 cxd5 e6 dxe6 fxe6 Nf3 Bb4+ Nc3 Ba5...         D10   \n",
              "1  d4 Nc6 e4 e5 f4 f6 dxe5 fxe5 fxe5 Nxe5 Qd4 Nc6...         B00   \n",
              "2  e4 e5 d3 d6 Be3 c6 Be2 b5 Nd2 a5 a4 c5 axb5 Nc...         C20   \n",
              "3  d4 d5 Nf3 Bf5 Nc3 Nf6 Bf4 Ng4 e3 Nc6 Be2 Qd7 O...         D02   \n",
              "4  e4 e5 Nf3 d6 d4 Nc6 d5 Nb4 a3 Na6 Nc3 Be7 b4 N...         C41   \n",
              "\n",
              "                             opening_name  opening_ply  \n",
              "0        Slav Defense: Exchange Variation            5  \n",
              "1  Nimzowitsch Defense: Kennedy Variation            4  \n",
              "2   King's Pawn Game: Leonardis Variation            3  \n",
              "3  Queen's Pawn Game: Zukertort Variation            3  \n",
              "4                        Philidor Defense            5  "
            ],
            "text/html": [
              "\n",
              "  <div id=\"df-c21dc50f-c4fc-4acb-b80f-0b0c6ad823d2\" class=\"colab-df-container\">\n",
              "    <div>\n",
              "<style scoped>\n",
              "    .dataframe tbody tr th:only-of-type {\n",
              "        vertical-align: middle;\n",
              "    }\n",
              "\n",
              "    .dataframe tbody tr th {\n",
              "        vertical-align: top;\n",
              "    }\n",
              "\n",
              "    .dataframe thead th {\n",
              "        text-align: right;\n",
              "    }\n",
              "</style>\n",
              "<table border=\"1\" class=\"dataframe\">\n",
              "  <thead>\n",
              "    <tr style=\"text-align: right;\">\n",
              "      <th></th>\n",
              "      <th>id</th>\n",
              "      <th>rated</th>\n",
              "      <th>created_at</th>\n",
              "      <th>last_move_at</th>\n",
              "      <th>turns</th>\n",
              "      <th>victory_status</th>\n",
              "      <th>winner</th>\n",
              "      <th>increment_code</th>\n",
              "      <th>white_id</th>\n",
              "      <th>white_rating</th>\n",
              "      <th>black_id</th>\n",
              "      <th>black_rating</th>\n",
              "      <th>moves</th>\n",
              "      <th>opening_eco</th>\n",
              "      <th>opening_name</th>\n",
              "      <th>opening_ply</th>\n",
              "    </tr>\n",
              "  </thead>\n",
              "  <tbody>\n",
              "    <tr>\n",
              "      <th>0</th>\n",
              "      <td>TZJHLljE</td>\n",
              "      <td>False</td>\n",
              "      <td>1.504210e+12</td>\n",
              "      <td>1.504210e+12</td>\n",
              "      <td>13</td>\n",
              "      <td>outoftime</td>\n",
              "      <td>white</td>\n",
              "      <td>15+2</td>\n",
              "      <td>bourgris</td>\n",
              "      <td>1500</td>\n",
              "      <td>a-00</td>\n",
              "      <td>1191</td>\n",
              "      <td>d4 d5 c4 c6 cxd5 e6 dxe6 fxe6 Nf3 Bb4+ Nc3 Ba5...</td>\n",
              "      <td>D10</td>\n",
              "      <td>Slav Defense: Exchange Variation</td>\n",
              "      <td>5</td>\n",
              "    </tr>\n",
              "    <tr>\n",
              "      <th>1</th>\n",
              "      <td>l1NXvwaE</td>\n",
              "      <td>True</td>\n",
              "      <td>1.504130e+12</td>\n",
              "      <td>1.504130e+12</td>\n",
              "      <td>16</td>\n",
              "      <td>resign</td>\n",
              "      <td>black</td>\n",
              "      <td>5+10</td>\n",
              "      <td>a-00</td>\n",
              "      <td>1322</td>\n",
              "      <td>skinnerua</td>\n",
              "      <td>1261</td>\n",
              "      <td>d4 Nc6 e4 e5 f4 f6 dxe5 fxe5 fxe5 Nxe5 Qd4 Nc6...</td>\n",
              "      <td>B00</td>\n",
              "      <td>Nimzowitsch Defense: Kennedy Variation</td>\n",
              "      <td>4</td>\n",
              "    </tr>\n",
              "    <tr>\n",
              "      <th>2</th>\n",
              "      <td>mIICvQHh</td>\n",
              "      <td>True</td>\n",
              "      <td>1.504130e+12</td>\n",
              "      <td>1.504130e+12</td>\n",
              "      <td>61</td>\n",
              "      <td>mate</td>\n",
              "      <td>white</td>\n",
              "      <td>5+10</td>\n",
              "      <td>ischia</td>\n",
              "      <td>1496</td>\n",
              "      <td>a-00</td>\n",
              "      <td>1500</td>\n",
              "      <td>e4 e5 d3 d6 Be3 c6 Be2 b5 Nd2 a5 a4 c5 axb5 Nc...</td>\n",
              "      <td>C20</td>\n",
              "      <td>King's Pawn Game: Leonardis Variation</td>\n",
              "      <td>3</td>\n",
              "    </tr>\n",
              "    <tr>\n",
              "      <th>3</th>\n",
              "      <td>kWKvrqYL</td>\n",
              "      <td>True</td>\n",
              "      <td>1.504110e+12</td>\n",
              "      <td>1.504110e+12</td>\n",
              "      <td>61</td>\n",
              "      <td>mate</td>\n",
              "      <td>white</td>\n",
              "      <td>20+0</td>\n",
              "      <td>daniamurashov</td>\n",
              "      <td>1439</td>\n",
              "      <td>adivanov2009</td>\n",
              "      <td>1454</td>\n",
              "      <td>d4 d5 Nf3 Bf5 Nc3 Nf6 Bf4 Ng4 e3 Nc6 Be2 Qd7 O...</td>\n",
              "      <td>D02</td>\n",
              "      <td>Queen's Pawn Game: Zukertort Variation</td>\n",
              "      <td>3</td>\n",
              "    </tr>\n",
              "    <tr>\n",
              "      <th>4</th>\n",
              "      <td>9tXo1AUZ</td>\n",
              "      <td>True</td>\n",
              "      <td>1.504030e+12</td>\n",
              "      <td>1.504030e+12</td>\n",
              "      <td>95</td>\n",
              "      <td>mate</td>\n",
              "      <td>white</td>\n",
              "      <td>30+3</td>\n",
              "      <td>nik221107</td>\n",
              "      <td>1523</td>\n",
              "      <td>adivanov2009</td>\n",
              "      <td>1469</td>\n",
              "      <td>e4 e5 Nf3 d6 d4 Nc6 d5 Nb4 a3 Na6 Nc3 Be7 b4 N...</td>\n",
              "      <td>C41</td>\n",
              "      <td>Philidor Defense</td>\n",
              "      <td>5</td>\n",
              "    </tr>\n",
              "  </tbody>\n",
              "</table>\n",
              "</div>\n",
              "    <div class=\"colab-df-buttons\">\n",
              "\n",
              "  <div class=\"colab-df-container\">\n",
              "    <button class=\"colab-df-convert\" onclick=\"convertToInteractive('df-c21dc50f-c4fc-4acb-b80f-0b0c6ad823d2')\"\n",
              "            title=\"Convert this dataframe to an interactive table.\"\n",
              "            style=\"display:none;\">\n",
              "\n",
              "  <svg xmlns=\"http://www.w3.org/2000/svg\" height=\"24px\" viewBox=\"0 -960 960 960\">\n",
              "    <path d=\"M120-120v-720h720v720H120Zm60-500h600v-160H180v160Zm220 220h160v-160H400v160Zm0 220h160v-160H400v160ZM180-400h160v-160H180v160Zm440 0h160v-160H620v160ZM180-180h160v-160H180v160Zm440 0h160v-160H620v160Z\"/>\n",
              "  </svg>\n",
              "    </button>\n",
              "\n",
              "  <style>\n",
              "    .colab-df-container {\n",
              "      display:flex;\n",
              "      gap: 12px;\n",
              "    }\n",
              "\n",
              "    .colab-df-convert {\n",
              "      background-color: #E8F0FE;\n",
              "      border: none;\n",
              "      border-radius: 50%;\n",
              "      cursor: pointer;\n",
              "      display: none;\n",
              "      fill: #1967D2;\n",
              "      height: 32px;\n",
              "      padding: 0 0 0 0;\n",
              "      width: 32px;\n",
              "    }\n",
              "\n",
              "    .colab-df-convert:hover {\n",
              "      background-color: #E2EBFA;\n",
              "      box-shadow: 0px 1px 2px rgba(60, 64, 67, 0.3), 0px 1px 3px 1px rgba(60, 64, 67, 0.15);\n",
              "      fill: #174EA6;\n",
              "    }\n",
              "\n",
              "    .colab-df-buttons div {\n",
              "      margin-bottom: 4px;\n",
              "    }\n",
              "\n",
              "    [theme=dark] .colab-df-convert {\n",
              "      background-color: #3B4455;\n",
              "      fill: #D2E3FC;\n",
              "    }\n",
              "\n",
              "    [theme=dark] .colab-df-convert:hover {\n",
              "      background-color: #434B5C;\n",
              "      box-shadow: 0px 1px 3px 1px rgba(0, 0, 0, 0.15);\n",
              "      filter: drop-shadow(0px 1px 2px rgba(0, 0, 0, 0.3));\n",
              "      fill: #FFFFFF;\n",
              "    }\n",
              "  </style>\n",
              "\n",
              "    <script>\n",
              "      const buttonEl =\n",
              "        document.querySelector('#df-c21dc50f-c4fc-4acb-b80f-0b0c6ad823d2 button.colab-df-convert');\n",
              "      buttonEl.style.display =\n",
              "        google.colab.kernel.accessAllowed ? 'block' : 'none';\n",
              "\n",
              "      async function convertToInteractive(key) {\n",
              "        const element = document.querySelector('#df-c21dc50f-c4fc-4acb-b80f-0b0c6ad823d2');\n",
              "        const dataTable =\n",
              "          await google.colab.kernel.invokeFunction('convertToInteractive',\n",
              "                                                    [key], {});\n",
              "        if (!dataTable) return;\n",
              "\n",
              "        const docLinkHtml = 'Like what you see? Visit the ' +\n",
              "          '<a target=\"_blank\" href=https://colab.research.google.com/notebooks/data_table.ipynb>data table notebook</a>'\n",
              "          + ' to learn more about interactive tables.';\n",
              "        element.innerHTML = '';\n",
              "        dataTable['output_type'] = 'display_data';\n",
              "        await google.colab.output.renderOutput(dataTable, element);\n",
              "        const docLink = document.createElement('div');\n",
              "        docLink.innerHTML = docLinkHtml;\n",
              "        element.appendChild(docLink);\n",
              "      }\n",
              "    </script>\n",
              "  </div>\n",
              "\n",
              "\n",
              "    <div id=\"df-37646112-88e7-4204-b73c-d09ddaa869ce\">\n",
              "      <button class=\"colab-df-quickchart\" onclick=\"quickchart('df-37646112-88e7-4204-b73c-d09ddaa869ce')\"\n",
              "                title=\"Suggest charts\"\n",
              "                style=\"display:none;\">\n",
              "\n",
              "<svg xmlns=\"http://www.w3.org/2000/svg\" height=\"24px\"viewBox=\"0 0 24 24\"\n",
              "     width=\"24px\">\n",
              "    <g>\n",
              "        <path d=\"M19 3H5c-1.1 0-2 .9-2 2v14c0 1.1.9 2 2 2h14c1.1 0 2-.9 2-2V5c0-1.1-.9-2-2-2zM9 17H7v-7h2v7zm4 0h-2V7h2v10zm4 0h-2v-4h2v4z\"/>\n",
              "    </g>\n",
              "</svg>\n",
              "      </button>\n",
              "\n",
              "<style>\n",
              "  .colab-df-quickchart {\n",
              "      --bg-color: #E8F0FE;\n",
              "      --fill-color: #1967D2;\n",
              "      --hover-bg-color: #E2EBFA;\n",
              "      --hover-fill-color: #174EA6;\n",
              "      --disabled-fill-color: #AAA;\n",
              "      --disabled-bg-color: #DDD;\n",
              "  }\n",
              "\n",
              "  [theme=dark] .colab-df-quickchart {\n",
              "      --bg-color: #3B4455;\n",
              "      --fill-color: #D2E3FC;\n",
              "      --hover-bg-color: #434B5C;\n",
              "      --hover-fill-color: #FFFFFF;\n",
              "      --disabled-bg-color: #3B4455;\n",
              "      --disabled-fill-color: #666;\n",
              "  }\n",
              "\n",
              "  .colab-df-quickchart {\n",
              "    background-color: var(--bg-color);\n",
              "    border: none;\n",
              "    border-radius: 50%;\n",
              "    cursor: pointer;\n",
              "    display: none;\n",
              "    fill: var(--fill-color);\n",
              "    height: 32px;\n",
              "    padding: 0;\n",
              "    width: 32px;\n",
              "  }\n",
              "\n",
              "  .colab-df-quickchart:hover {\n",
              "    background-color: var(--hover-bg-color);\n",
              "    box-shadow: 0 1px 2px rgba(60, 64, 67, 0.3), 0 1px 3px 1px rgba(60, 64, 67, 0.15);\n",
              "    fill: var(--button-hover-fill-color);\n",
              "  }\n",
              "\n",
              "  .colab-df-quickchart-complete:disabled,\n",
              "  .colab-df-quickchart-complete:disabled:hover {\n",
              "    background-color: var(--disabled-bg-color);\n",
              "    fill: var(--disabled-fill-color);\n",
              "    box-shadow: none;\n",
              "  }\n",
              "\n",
              "  .colab-df-spinner {\n",
              "    border: 2px solid var(--fill-color);\n",
              "    border-color: transparent;\n",
              "    border-bottom-color: var(--fill-color);\n",
              "    animation:\n",
              "      spin 1s steps(1) infinite;\n",
              "  }\n",
              "\n",
              "  @keyframes spin {\n",
              "    0% {\n",
              "      border-color: transparent;\n",
              "      border-bottom-color: var(--fill-color);\n",
              "      border-left-color: var(--fill-color);\n",
              "    }\n",
              "    20% {\n",
              "      border-color: transparent;\n",
              "      border-left-color: var(--fill-color);\n",
              "      border-top-color: var(--fill-color);\n",
              "    }\n",
              "    30% {\n",
              "      border-color: transparent;\n",
              "      border-left-color: var(--fill-color);\n",
              "      border-top-color: var(--fill-color);\n",
              "      border-right-color: var(--fill-color);\n",
              "    }\n",
              "    40% {\n",
              "      border-color: transparent;\n",
              "      border-right-color: var(--fill-color);\n",
              "      border-top-color: var(--fill-color);\n",
              "    }\n",
              "    60% {\n",
              "      border-color: transparent;\n",
              "      border-right-color: var(--fill-color);\n",
              "    }\n",
              "    80% {\n",
              "      border-color: transparent;\n",
              "      border-right-color: var(--fill-color);\n",
              "      border-bottom-color: var(--fill-color);\n",
              "    }\n",
              "    90% {\n",
              "      border-color: transparent;\n",
              "      border-bottom-color: var(--fill-color);\n",
              "    }\n",
              "  }\n",
              "</style>\n",
              "\n",
              "      <script>\n",
              "        async function quickchart(key) {\n",
              "          const quickchartButtonEl =\n",
              "            document.querySelector('#' + key + ' button');\n",
              "          quickchartButtonEl.disabled = true;  // To prevent multiple clicks.\n",
              "          quickchartButtonEl.classList.add('colab-df-spinner');\n",
              "          try {\n",
              "            const charts = await google.colab.kernel.invokeFunction(\n",
              "                'suggestCharts', [key], {});\n",
              "          } catch (error) {\n",
              "            console.error('Error during call to suggestCharts:', error);\n",
              "          }\n",
              "          quickchartButtonEl.classList.remove('colab-df-spinner');\n",
              "          quickchartButtonEl.classList.add('colab-df-quickchart-complete');\n",
              "        }\n",
              "        (() => {\n",
              "          let quickchartButtonEl =\n",
              "            document.querySelector('#df-37646112-88e7-4204-b73c-d09ddaa869ce button');\n",
              "          quickchartButtonEl.style.display =\n",
              "            google.colab.kernel.accessAllowed ? 'block' : 'none';\n",
              "        })();\n",
              "      </script>\n",
              "    </div>\n",
              "\n",
              "    </div>\n",
              "  </div>\n"
            ],
            "application/vnd.google.colaboratory.intrinsic+json": {
              "type": "dataframe",
              "variable_name": "chess_games",
              "summary": "{\n  \"name\": \"chess_games\",\n  \"rows\": 20058,\n  \"fields\": [\n    {\n      \"column\": \"id\",\n      \"properties\": {\n        \"dtype\": \"string\",\n        \"num_unique_values\": 19113,\n        \"samples\": [\n          \"fh9mVD7Q\",\n          \"PrpX9Fne\",\n          \"xCYtQhhQ\"\n        ],\n        \"semantic_type\": \"\",\n        \"description\": \"\"\n      }\n    },\n    {\n      \"column\": \"rated\",\n      \"properties\": {\n        \"dtype\": \"boolean\",\n        \"num_unique_values\": 2,\n        \"samples\": [\n          true,\n          false\n        ],\n        \"semantic_type\": \"\",\n        \"description\": \"\"\n      }\n    },\n    {\n      \"column\": \"created_at\",\n      \"properties\": {\n        \"dtype\": \"number\",\n        \"std\": 28501509421.00487,\n        \"min\": 1376771633173.0,\n        \"max\": 1504493143790.0,\n        \"num_unique_values\": 13151,\n        \"samples\": [\n          1503822443541.0,\n          1400648327872.0\n        ],\n        \"semantic_type\": \"\",\n        \"description\": \"\"\n      }\n    },\n    {\n      \"column\": \"last_move_at\",\n      \"properties\": {\n        \"dtype\": \"number\",\n        \"std\": 28501400588.89014,\n        \"min\": 1376771863841.0,\n        \"max\": 1504493827262.0,\n        \"num_unique_values\": 13186,\n        \"samples\": [\n          1461210000000.0,\n          1414608954957.0\n        ],\n        \"semantic_type\": \"\",\n        \"description\": \"\"\n      }\n    },\n    {\n      \"column\": \"turns\",\n      \"properties\": {\n        \"dtype\": \"number\",\n        \"std\": 33,\n        \"min\": 1,\n        \"max\": 349,\n        \"num_unique_values\": 211,\n        \"samples\": [\n          37,\n          146\n        ],\n        \"semantic_type\": \"\",\n        \"description\": \"\"\n      }\n    },\n    {\n      \"column\": \"victory_status\",\n      \"properties\": {\n        \"dtype\": \"category\",\n        \"num_unique_values\": 4,\n        \"samples\": [\n          \"resign\",\n          \"draw\"\n        ],\n        \"semantic_type\": \"\",\n        \"description\": \"\"\n      }\n    },\n    {\n      \"column\": \"winner\",\n      \"properties\": {\n        \"dtype\": \"category\",\n        \"num_unique_values\": 3,\n        \"samples\": [\n          \"white\",\n          \"black\"\n        ],\n        \"semantic_type\": \"\",\n        \"description\": \"\"\n      }\n    },\n    {\n      \"column\": \"increment_code\",\n      \"properties\": {\n        \"dtype\": \"category\",\n        \"num_unique_values\": 400,\n        \"samples\": [\n          \"17+15\",\n          \"11+3\"\n        ],\n        \"semantic_type\": \"\",\n        \"description\": \"\"\n      }\n    },\n    {\n      \"column\": \"white_id\",\n      \"properties\": {\n        \"dtype\": \"category\",\n        \"num_unique_values\": 9438,\n        \"samples\": [\n          \"jotao\",\n          \"tosimiesseppo\"\n        ],\n        \"semantic_type\": \"\",\n        \"description\": \"\"\n      }\n    },\n    {\n      \"column\": \"white_rating\",\n      \"properties\": {\n        \"dtype\": \"number\",\n        \"std\": 291,\n        \"min\": 784,\n        \"max\": 2700,\n        \"num_unique_values\": 1516,\n        \"samples\": [\n          1571,\n          1232\n        ],\n        \"semantic_type\": \"\",\n        \"description\": \"\"\n      }\n    },\n    {\n      \"column\": \"black_id\",\n      \"properties\": {\n        \"dtype\": \"category\",\n        \"num_unique_values\": 9331,\n        \"samples\": [\n          \"tandemchess\",\n          \"ghaffari\"\n        ],\n        \"semantic_type\": \"\",\n        \"description\": \"\"\n      }\n    },\n    {\n      \"column\": \"black_rating\",\n      \"properties\": {\n        \"dtype\": \"number\",\n        \"std\": 291,\n        \"min\": 789,\n        \"max\": 2723,\n        \"num_unique_values\": 1521,\n        \"samples\": [\n          1811,\n          1817\n        ],\n        \"semantic_type\": \"\",\n        \"description\": \"\"\n      }\n    },\n    {\n      \"column\": \"moves\",\n      \"properties\": {\n        \"dtype\": \"string\",\n        \"num_unique_values\": 18920,\n        \"samples\": [\n          \"d4 Nf6 c4 e6 Nf3 d5 Nc3 Bb4 a3 Bxc3+ bxc3 c6 Bg5 O-O cxd5 cxd5 e3 Nbd7 Bd3 h6 Bf4 a6 Ne5 b5 a4 Bb7 axb5 axb5 Rxa8 Bxa8 Bxb5 Nxe5 Bxe5 Ne4 Qd3 Qa5 O-O Nxc3 Bd7 Rd8 Rc1 Rxd7 Qxc3 Qxc3 Rxc3 Ra7 Rc8+ Kh7 h3 Ra1+ Kh2 f6 Bd6 Ra6 Bf8 Kg8 Bc5+ Kh7 f3 h5 e4 dxe4 fxe4 Bxe4 Re8 Ra2 Rxe6 Rxg2+ Kh1 Bf3 Rd6\",\n          \"e4 c5 Nf3 Nc6 d4 cxd4 Nxd4 e5 Nxc6 bxc6 Nc3 Bb4 Bd2 Qf6 Qe2 a5 O-O-O Ba6 a3 Bxe2 Bxe2 Bxc3 Bxc3 Qxf2 Bf3 Nf6 Bxe5 O-O-O Rhf1 Qb6 Bd4 c5 Be3 d5 e5 d4 Bg5 Rhe8 exf6 gxf6 Bg4+ Kb7 Rxf6 Qb5 Bf3+ Ka7 Rxf7+ Ka6 Bxd8 Rxd8 Re1 Rb8 b3 a4 Be2 Qxe2 Rxe2 axb3 Re6+ Ka5 Ra7+ Kb5 cxb3 d3 Kd2 c4 bxc4+ Kxc4 Re4+ Kb3 Kxd3 Ka2 Rxh7 Rb3+ Kd4 Rxa3 Re2+ Kb3 Re3+ Ka4 Rxa3+ Kxa3 g4\"\n        ],\n        \"semantic_type\": \"\",\n        \"description\": \"\"\n      }\n    },\n    {\n      \"column\": \"opening_eco\",\n      \"properties\": {\n        \"dtype\": \"category\",\n        \"num_unique_values\": 365,\n        \"samples\": [\n          \"B25\",\n          \"A04\"\n        ],\n        \"semantic_type\": \"\",\n        \"description\": \"\"\n      }\n    },\n    {\n      \"column\": \"opening_name\",\n      \"properties\": {\n        \"dtype\": \"category\",\n        \"num_unique_values\": 1477,\n        \"samples\": [\n          \"Semi-Slav Defense: Marshall Gambit\",\n          \"Mikenas Defense\"\n        ],\n        \"semantic_type\": \"\",\n        \"description\": \"\"\n      }\n    },\n    {\n      \"column\": \"opening_ply\",\n      \"properties\": {\n        \"dtype\": \"number\",\n        \"std\": 2,\n        \"min\": 1,\n        \"max\": 28,\n        \"num_unique_values\": 23,\n        \"samples\": [\n          19,\n          7\n        ],\n        \"semantic_type\": \"\",\n        \"description\": \"\"\n      }\n    }\n  ]\n}"
            }
          },
          "metadata": {},
          "execution_count": 3
        }
      ]
    },
    {
      "metadata": {
        "id": "rpi0KyQssfO8"
      },
      "cell_type": "markdown",
      "source": [
        "# Features"
      ]
    },
    {
      "metadata": {
        "id": "RLaTgCsdsfO8"
      },
      "cell_type": "markdown",
      "source": [
        "### Duration of the match"
      ]
    },
    {
      "metadata": {
        "trusted": true,
        "id": "Kz-dttn7sfO8"
      },
      "cell_type": "code",
      "source": [
        "games_delay_in_sec = (chess_games['last_move_at'] - chess_games['created_at']) / 1000\n",
        "chess_games['duration_in_seconds'] = games_delay_in_sec.copy()"
      ],
      "execution_count": null,
      "outputs": []
    },
    {
      "metadata": {
        "id": "ULSeV44OsfO9"
      },
      "cell_type": "markdown",
      "source": [
        "### One-Hot-Encoding of victory status"
      ]
    },
    {
      "metadata": {
        "trusted": true,
        "id": "CkE3FoY7sfO9",
        "outputId": "ee72337f-28ba-4f2f-a3f7-bd7ccbc292fd",
        "colab": {
          "base_uri": "https://localhost:8080/"
        }
      },
      "cell_type": "code",
      "source": [
        "!pip install category_encoders\n",
        "from category_encoders import OneHotEncoder"
      ],
      "execution_count": null,
      "outputs": [
        {
          "output_type": "stream",
          "name": "stdout",
          "text": [
            "Collecting category_encoders\n",
            "  Downloading category_encoders-2.8.1-py3-none-any.whl.metadata (7.9 kB)\n",
            "Requirement already satisfied: numpy>=1.14.0 in /usr/local/lib/python3.11/dist-packages (from category_encoders) (2.0.2)\n",
            "Requirement already satisfied: pandas>=1.0.5 in /usr/local/lib/python3.11/dist-packages (from category_encoders) (2.2.2)\n",
            "Requirement already satisfied: patsy>=0.5.1 in /usr/local/lib/python3.11/dist-packages (from category_encoders) (1.0.1)\n",
            "Requirement already satisfied: scikit-learn>=1.6.0 in /usr/local/lib/python3.11/dist-packages (from category_encoders) (1.6.1)\n",
            "Requirement already satisfied: scipy>=1.0.0 in /usr/local/lib/python3.11/dist-packages (from category_encoders) (1.15.2)\n",
            "Requirement already satisfied: statsmodels>=0.9.0 in /usr/local/lib/python3.11/dist-packages (from category_encoders) (0.14.4)\n",
            "Requirement already satisfied: python-dateutil>=2.8.2 in /usr/local/lib/python3.11/dist-packages (from pandas>=1.0.5->category_encoders) (2.9.0.post0)\n",
            "Requirement already satisfied: pytz>=2020.1 in /usr/local/lib/python3.11/dist-packages (from pandas>=1.0.5->category_encoders) (2025.2)\n",
            "Requirement already satisfied: tzdata>=2022.7 in /usr/local/lib/python3.11/dist-packages (from pandas>=1.0.5->category_encoders) (2025.2)\n",
            "Requirement already satisfied: joblib>=1.2.0 in /usr/local/lib/python3.11/dist-packages (from scikit-learn>=1.6.0->category_encoders) (1.4.2)\n",
            "Requirement already satisfied: threadpoolctl>=3.1.0 in /usr/local/lib/python3.11/dist-packages (from scikit-learn>=1.6.0->category_encoders) (3.6.0)\n",
            "Requirement already satisfied: packaging>=21.3 in /usr/local/lib/python3.11/dist-packages (from statsmodels>=0.9.0->category_encoders) (24.2)\n",
            "Requirement already satisfied: six>=1.5 in /usr/local/lib/python3.11/dist-packages (from python-dateutil>=2.8.2->pandas>=1.0.5->category_encoders) (1.17.0)\n",
            "Downloading category_encoders-2.8.1-py3-none-any.whl (85 kB)\n",
            "\u001b[2K   \u001b[90m━━━━━━━━━━━━━━━━━━━━━━━━━━━━━━━━━━━━━━━━\u001b[0m \u001b[32m85.7/85.7 kB\u001b[0m \u001b[31m2.3 MB/s\u001b[0m eta \u001b[36m0:00:00\u001b[0m\n",
            "\u001b[?25hInstalling collected packages: category_encoders\n",
            "Successfully installed category_encoders-2.8.1\n"
          ]
        }
      ]
    },
    {
      "metadata": {
        "trusted": true,
        "id": "XedtXEOJsfO9"
      },
      "cell_type": "code",
      "source": [
        "ohe_victory_status = OneHotEncoder(cols=['victory_status'], use_cat_names=True, drop_invariant=True)\n",
        "chess_games = ohe_victory_status.fit_transform(chess_games)"
      ],
      "execution_count": null,
      "outputs": []
    },
    {
      "metadata": {
        "id": "ko0lWj3SsfO-"
      },
      "cell_type": "markdown",
      "source": [
        "### Time control: Minutes and Seconds"
      ]
    },
    {
      "metadata": {
        "trusted": true,
        "id": "QebgMxXUsfO-"
      },
      "cell_type": "code",
      "source": [
        "minutes = chess_games['increment_code'].str.split('+').map(lambda time_control: time_control[0], na_action=None).astype(int)\n",
        "incr_seconds = chess_games['increment_code'].str.split('+').map(lambda time_control: time_control[1], na_action=None).astype(int)\n",
        "\n",
        "chess_games['minutes'] = minutes.copy()\n",
        "chess_games['incr_seconds'] = incr_seconds.copy()"
      ],
      "execution_count": null,
      "outputs": []
    },
    {
      "metadata": {
        "trusted": true,
        "id": "xJ7fteQfsfO-"
      },
      "cell_type": "code",
      "source": [
        "chess_games = chess_games.drop(columns=['increment_code'], axis=1)"
      ],
      "execution_count": null,
      "outputs": []
    },
    {
      "metadata": {
        "id": "Nxn78FBOsfO-"
      },
      "cell_type": "markdown",
      "source": [
        "### Date of Creation and Last Move At (as dates)"
      ]
    },
    {
      "metadata": {
        "trusted": true,
        "id": "JYu1wGbesfO_"
      },
      "cell_type": "code",
      "source": [
        "chess_games['created_at'] = pd.to_datetime(chess_games['created_at'], unit='ms')\n",
        "chess_games['last_move_at'] = pd.to_datetime(chess_games['last_move_at'], unit='ms')"
      ],
      "execution_count": null,
      "outputs": []
    },
    {
      "metadata": {
        "id": "-Xu2xNAlsfO_"
      },
      "cell_type": "markdown",
      "source": [
        "### Rating difference"
      ]
    },
    {
      "metadata": {
        "id": "NoLIB8t1sfO_"
      },
      "cell_type": "markdown",
      "source": [
        "One other variable that seems to be predictive is the rating difference between the players."
      ]
    },
    {
      "metadata": {
        "trusted": true,
        "id": "ApLszGXAsfO_"
      },
      "cell_type": "code",
      "source": [
        "chess_games['rating_difference'] = chess_games['white_rating'] - chess_games['black_rating']"
      ],
      "execution_count": null,
      "outputs": []
    },
    {
      "metadata": {
        "trusted": true,
        "id": "cJvi3lVksfPA",
        "outputId": "a9e03bd8-cf69-48d3-9ad9-277576dd8684",
        "colab": {
          "base_uri": "https://localhost:8080/"
        }
      },
      "cell_type": "code",
      "source": [
        "chess_games['rating_difference'].mean()"
      ],
      "execution_count": null,
      "outputs": [
        {
          "output_type": "execute_result",
          "data": {
            "text/plain": [
              "np.float64(7.799880346993718)"
            ]
          },
          "metadata": {},
          "execution_count": 12
        }
      ]
    },
    {
      "metadata": {
        "id": "2bfGQBrisfPA"
      },
      "cell_type": "markdown",
      "source": [
        "### Castle"
      ]
    },
    {
      "metadata": {
        "trusted": true,
        "id": "d-yE8O0GsfPA"
      },
      "cell_type": "code",
      "source": [
        "def get_white_moves(moves):\n",
        "    return moves[::2]\n",
        "\n",
        "def get_black_moves(moves):\n",
        "    return moves[1::2]\n",
        "\n",
        "def castled(moves):\n",
        "    return ('O-O' in moves) | ('O-O-O' in moves)\n",
        "\n",
        "all_moves = chess_games['moves'].str.split()\n",
        "white_moves = all_moves.apply(get_white_moves)\n",
        "black_moves = all_moves.apply(get_black_moves)\n",
        "chess_games['white_castled'] = white_moves.apply(castled).astype(int)\n",
        "chess_games['black_castled'] = black_moves.apply(castled).astype(int)"
      ],
      "execution_count": null,
      "outputs": []
    },
    {
      "metadata": {
        "id": "Njq6SuL9sfPA"
      },
      "cell_type": "markdown",
      "source": [
        "### Number of takes"
      ]
    },
    {
      "metadata": {
        "trusted": true,
        "id": "jCq9yU16sfPA"
      },
      "cell_type": "code",
      "source": [
        "def count_takes(moves):\n",
        "    moves = pd.Series(moves)\n",
        "    return moves.map(lambda mv: 1 if 'x' in mv else 0).sum()\n",
        "\n",
        "chess_games['white_takes_count'] = white_moves.apply(count_takes)\n",
        "chess_games['black_takes_count'] = black_moves.apply(count_takes)"
      ],
      "execution_count": null,
      "outputs": []
    },
    {
      "metadata": {
        "trusted": true,
        "id": "gWP2arMIsfPB",
        "outputId": "0159eadc-18eb-46a8-eb47-4a3ea1d438c8",
        "colab": {
          "base_uri": "https://localhost:8080/",
          "height": 1000
        }
      },
      "cell_type": "code",
      "source": [
        "chess_games.head()"
      ],
      "execution_count": null,
      "outputs": [
        {
          "output_type": "execute_result",
          "data": {
            "text/plain": [
              "         id  rated          created_at        last_move_at  turns  \\\n",
              "0  TZJHLljE  False 2017-08-31 20:06:40 2017-08-31 20:06:40     13   \n",
              "1  l1NXvwaE   True 2017-08-30 21:53:20 2017-08-30 21:53:20     16   \n",
              "2  mIICvQHh   True 2017-08-30 21:53:20 2017-08-30 21:53:20     61   \n",
              "3  kWKvrqYL   True 2017-08-30 16:20:00 2017-08-30 16:20:00     61   \n",
              "4  9tXo1AUZ   True 2017-08-29 18:06:40 2017-08-29 18:06:40     95   \n",
              "\n",
              "   victory_status_outoftime  victory_status_resign  victory_status_mate  \\\n",
              "0                         1                      0                    0   \n",
              "1                         0                      1                    0   \n",
              "2                         0                      0                    1   \n",
              "3                         0                      0                    1   \n",
              "4                         0                      0                    1   \n",
              "\n",
              "   victory_status_draw winner       white_id  white_rating      black_id  \\\n",
              "0                    0  white       bourgris          1500          a-00   \n",
              "1                    0  black           a-00          1322     skinnerua   \n",
              "2                    0  white         ischia          1496          a-00   \n",
              "3                    0  white  daniamurashov          1439  adivanov2009   \n",
              "4                    0  white      nik221107          1523  adivanov2009   \n",
              "\n",
              "   black_rating                                              moves  \\\n",
              "0          1191  d4 d5 c4 c6 cxd5 e6 dxe6 fxe6 Nf3 Bb4+ Nc3 Ba5...   \n",
              "1          1261  d4 Nc6 e4 e5 f4 f6 dxe5 fxe5 fxe5 Nxe5 Qd4 Nc6...   \n",
              "2          1500  e4 e5 d3 d6 Be3 c6 Be2 b5 Nd2 a5 a4 c5 axb5 Nc...   \n",
              "3          1454  d4 d5 Nf3 Bf5 Nc3 Nf6 Bf4 Ng4 e3 Nc6 Be2 Qd7 O...   \n",
              "4          1469  e4 e5 Nf3 d6 d4 Nc6 d5 Nb4 a3 Na6 Nc3 Be7 b4 N...   \n",
              "\n",
              "  opening_eco                            opening_name  opening_ply  \\\n",
              "0         D10        Slav Defense: Exchange Variation            5   \n",
              "1         B00  Nimzowitsch Defense: Kennedy Variation            4   \n",
              "2         C20   King's Pawn Game: Leonardis Variation            3   \n",
              "3         D02  Queen's Pawn Game: Zukertort Variation            3   \n",
              "4         C41                        Philidor Defense            5   \n",
              "\n",
              "   duration_in_seconds  minutes  incr_seconds  rating_difference  \\\n",
              "0                  0.0       15             2                309   \n",
              "1                  0.0        5            10                 61   \n",
              "2                  0.0        5            10                 -4   \n",
              "3                  0.0       20             0                -15   \n",
              "4                  0.0       30             3                 54   \n",
              "\n",
              "   white_castled  black_castled  white_takes_count  black_takes_count  \n",
              "0              0              0                  2                  1  \n",
              "1              0              0                  2                  3  \n",
              "2              0              0                 14                  3  \n",
              "3              1              1                 10                  4  \n",
              "4              1              1                 14                 10  "
            ],
            "text/html": [
              "\n",
              "  <div id=\"df-27a1073e-0d91-49eb-b319-6c90d4455fdf\" class=\"colab-df-container\">\n",
              "    <div>\n",
              "<style scoped>\n",
              "    .dataframe tbody tr th:only-of-type {\n",
              "        vertical-align: middle;\n",
              "    }\n",
              "\n",
              "    .dataframe tbody tr th {\n",
              "        vertical-align: top;\n",
              "    }\n",
              "\n",
              "    .dataframe thead th {\n",
              "        text-align: right;\n",
              "    }\n",
              "</style>\n",
              "<table border=\"1\" class=\"dataframe\">\n",
              "  <thead>\n",
              "    <tr style=\"text-align: right;\">\n",
              "      <th></th>\n",
              "      <th>id</th>\n",
              "      <th>rated</th>\n",
              "      <th>created_at</th>\n",
              "      <th>last_move_at</th>\n",
              "      <th>turns</th>\n",
              "      <th>victory_status_outoftime</th>\n",
              "      <th>victory_status_resign</th>\n",
              "      <th>victory_status_mate</th>\n",
              "      <th>victory_status_draw</th>\n",
              "      <th>winner</th>\n",
              "      <th>white_id</th>\n",
              "      <th>white_rating</th>\n",
              "      <th>black_id</th>\n",
              "      <th>black_rating</th>\n",
              "      <th>moves</th>\n",
              "      <th>opening_eco</th>\n",
              "      <th>opening_name</th>\n",
              "      <th>opening_ply</th>\n",
              "      <th>duration_in_seconds</th>\n",
              "      <th>minutes</th>\n",
              "      <th>incr_seconds</th>\n",
              "      <th>rating_difference</th>\n",
              "      <th>white_castled</th>\n",
              "      <th>black_castled</th>\n",
              "      <th>white_takes_count</th>\n",
              "      <th>black_takes_count</th>\n",
              "    </tr>\n",
              "  </thead>\n",
              "  <tbody>\n",
              "    <tr>\n",
              "      <th>0</th>\n",
              "      <td>TZJHLljE</td>\n",
              "      <td>False</td>\n",
              "      <td>2017-08-31 20:06:40</td>\n",
              "      <td>2017-08-31 20:06:40</td>\n",
              "      <td>13</td>\n",
              "      <td>1</td>\n",
              "      <td>0</td>\n",
              "      <td>0</td>\n",
              "      <td>0</td>\n",
              "      <td>white</td>\n",
              "      <td>bourgris</td>\n",
              "      <td>1500</td>\n",
              "      <td>a-00</td>\n",
              "      <td>1191</td>\n",
              "      <td>d4 d5 c4 c6 cxd5 e6 dxe6 fxe6 Nf3 Bb4+ Nc3 Ba5...</td>\n",
              "      <td>D10</td>\n",
              "      <td>Slav Defense: Exchange Variation</td>\n",
              "      <td>5</td>\n",
              "      <td>0.0</td>\n",
              "      <td>15</td>\n",
              "      <td>2</td>\n",
              "      <td>309</td>\n",
              "      <td>0</td>\n",
              "      <td>0</td>\n",
              "      <td>2</td>\n",
              "      <td>1</td>\n",
              "    </tr>\n",
              "    <tr>\n",
              "      <th>1</th>\n",
              "      <td>l1NXvwaE</td>\n",
              "      <td>True</td>\n",
              "      <td>2017-08-30 21:53:20</td>\n",
              "      <td>2017-08-30 21:53:20</td>\n",
              "      <td>16</td>\n",
              "      <td>0</td>\n",
              "      <td>1</td>\n",
              "      <td>0</td>\n",
              "      <td>0</td>\n",
              "      <td>black</td>\n",
              "      <td>a-00</td>\n",
              "      <td>1322</td>\n",
              "      <td>skinnerua</td>\n",
              "      <td>1261</td>\n",
              "      <td>d4 Nc6 e4 e5 f4 f6 dxe5 fxe5 fxe5 Nxe5 Qd4 Nc6...</td>\n",
              "      <td>B00</td>\n",
              "      <td>Nimzowitsch Defense: Kennedy Variation</td>\n",
              "      <td>4</td>\n",
              "      <td>0.0</td>\n",
              "      <td>5</td>\n",
              "      <td>10</td>\n",
              "      <td>61</td>\n",
              "      <td>0</td>\n",
              "      <td>0</td>\n",
              "      <td>2</td>\n",
              "      <td>3</td>\n",
              "    </tr>\n",
              "    <tr>\n",
              "      <th>2</th>\n",
              "      <td>mIICvQHh</td>\n",
              "      <td>True</td>\n",
              "      <td>2017-08-30 21:53:20</td>\n",
              "      <td>2017-08-30 21:53:20</td>\n",
              "      <td>61</td>\n",
              "      <td>0</td>\n",
              "      <td>0</td>\n",
              "      <td>1</td>\n",
              "      <td>0</td>\n",
              "      <td>white</td>\n",
              "      <td>ischia</td>\n",
              "      <td>1496</td>\n",
              "      <td>a-00</td>\n",
              "      <td>1500</td>\n",
              "      <td>e4 e5 d3 d6 Be3 c6 Be2 b5 Nd2 a5 a4 c5 axb5 Nc...</td>\n",
              "      <td>C20</td>\n",
              "      <td>King's Pawn Game: Leonardis Variation</td>\n",
              "      <td>3</td>\n",
              "      <td>0.0</td>\n",
              "      <td>5</td>\n",
              "      <td>10</td>\n",
              "      <td>-4</td>\n",
              "      <td>0</td>\n",
              "      <td>0</td>\n",
              "      <td>14</td>\n",
              "      <td>3</td>\n",
              "    </tr>\n",
              "    <tr>\n",
              "      <th>3</th>\n",
              "      <td>kWKvrqYL</td>\n",
              "      <td>True</td>\n",
              "      <td>2017-08-30 16:20:00</td>\n",
              "      <td>2017-08-30 16:20:00</td>\n",
              "      <td>61</td>\n",
              "      <td>0</td>\n",
              "      <td>0</td>\n",
              "      <td>1</td>\n",
              "      <td>0</td>\n",
              "      <td>white</td>\n",
              "      <td>daniamurashov</td>\n",
              "      <td>1439</td>\n",
              "      <td>adivanov2009</td>\n",
              "      <td>1454</td>\n",
              "      <td>d4 d5 Nf3 Bf5 Nc3 Nf6 Bf4 Ng4 e3 Nc6 Be2 Qd7 O...</td>\n",
              "      <td>D02</td>\n",
              "      <td>Queen's Pawn Game: Zukertort Variation</td>\n",
              "      <td>3</td>\n",
              "      <td>0.0</td>\n",
              "      <td>20</td>\n",
              "      <td>0</td>\n",
              "      <td>-15</td>\n",
              "      <td>1</td>\n",
              "      <td>1</td>\n",
              "      <td>10</td>\n",
              "      <td>4</td>\n",
              "    </tr>\n",
              "    <tr>\n",
              "      <th>4</th>\n",
              "      <td>9tXo1AUZ</td>\n",
              "      <td>True</td>\n",
              "      <td>2017-08-29 18:06:40</td>\n",
              "      <td>2017-08-29 18:06:40</td>\n",
              "      <td>95</td>\n",
              "      <td>0</td>\n",
              "      <td>0</td>\n",
              "      <td>1</td>\n",
              "      <td>0</td>\n",
              "      <td>white</td>\n",
              "      <td>nik221107</td>\n",
              "      <td>1523</td>\n",
              "      <td>adivanov2009</td>\n",
              "      <td>1469</td>\n",
              "      <td>e4 e5 Nf3 d6 d4 Nc6 d5 Nb4 a3 Na6 Nc3 Be7 b4 N...</td>\n",
              "      <td>C41</td>\n",
              "      <td>Philidor Defense</td>\n",
              "      <td>5</td>\n",
              "      <td>0.0</td>\n",
              "      <td>30</td>\n",
              "      <td>3</td>\n",
              "      <td>54</td>\n",
              "      <td>1</td>\n",
              "      <td>1</td>\n",
              "      <td>14</td>\n",
              "      <td>10</td>\n",
              "    </tr>\n",
              "  </tbody>\n",
              "</table>\n",
              "</div>\n",
              "    <div class=\"colab-df-buttons\">\n",
              "\n",
              "  <div class=\"colab-df-container\">\n",
              "    <button class=\"colab-df-convert\" onclick=\"convertToInteractive('df-27a1073e-0d91-49eb-b319-6c90d4455fdf')\"\n",
              "            title=\"Convert this dataframe to an interactive table.\"\n",
              "            style=\"display:none;\">\n",
              "\n",
              "  <svg xmlns=\"http://www.w3.org/2000/svg\" height=\"24px\" viewBox=\"0 -960 960 960\">\n",
              "    <path d=\"M120-120v-720h720v720H120Zm60-500h600v-160H180v160Zm220 220h160v-160H400v160Zm0 220h160v-160H400v160ZM180-400h160v-160H180v160Zm440 0h160v-160H620v160ZM180-180h160v-160H180v160Zm440 0h160v-160H620v160Z\"/>\n",
              "  </svg>\n",
              "    </button>\n",
              "\n",
              "  <style>\n",
              "    .colab-df-container {\n",
              "      display:flex;\n",
              "      gap: 12px;\n",
              "    }\n",
              "\n",
              "    .colab-df-convert {\n",
              "      background-color: #E8F0FE;\n",
              "      border: none;\n",
              "      border-radius: 50%;\n",
              "      cursor: pointer;\n",
              "      display: none;\n",
              "      fill: #1967D2;\n",
              "      height: 32px;\n",
              "      padding: 0 0 0 0;\n",
              "      width: 32px;\n",
              "    }\n",
              "\n",
              "    .colab-df-convert:hover {\n",
              "      background-color: #E2EBFA;\n",
              "      box-shadow: 0px 1px 2px rgba(60, 64, 67, 0.3), 0px 1px 3px 1px rgba(60, 64, 67, 0.15);\n",
              "      fill: #174EA6;\n",
              "    }\n",
              "\n",
              "    .colab-df-buttons div {\n",
              "      margin-bottom: 4px;\n",
              "    }\n",
              "\n",
              "    [theme=dark] .colab-df-convert {\n",
              "      background-color: #3B4455;\n",
              "      fill: #D2E3FC;\n",
              "    }\n",
              "\n",
              "    [theme=dark] .colab-df-convert:hover {\n",
              "      background-color: #434B5C;\n",
              "      box-shadow: 0px 1px 3px 1px rgba(0, 0, 0, 0.15);\n",
              "      filter: drop-shadow(0px 1px 2px rgba(0, 0, 0, 0.3));\n",
              "      fill: #FFFFFF;\n",
              "    }\n",
              "  </style>\n",
              "\n",
              "    <script>\n",
              "      const buttonEl =\n",
              "        document.querySelector('#df-27a1073e-0d91-49eb-b319-6c90d4455fdf button.colab-df-convert');\n",
              "      buttonEl.style.display =\n",
              "        google.colab.kernel.accessAllowed ? 'block' : 'none';\n",
              "\n",
              "      async function convertToInteractive(key) {\n",
              "        const element = document.querySelector('#df-27a1073e-0d91-49eb-b319-6c90d4455fdf');\n",
              "        const dataTable =\n",
              "          await google.colab.kernel.invokeFunction('convertToInteractive',\n",
              "                                                    [key], {});\n",
              "        if (!dataTable) return;\n",
              "\n",
              "        const docLinkHtml = 'Like what you see? Visit the ' +\n",
              "          '<a target=\"_blank\" href=https://colab.research.google.com/notebooks/data_table.ipynb>data table notebook</a>'\n",
              "          + ' to learn more about interactive tables.';\n",
              "        element.innerHTML = '';\n",
              "        dataTable['output_type'] = 'display_data';\n",
              "        await google.colab.output.renderOutput(dataTable, element);\n",
              "        const docLink = document.createElement('div');\n",
              "        docLink.innerHTML = docLinkHtml;\n",
              "        element.appendChild(docLink);\n",
              "      }\n",
              "    </script>\n",
              "  </div>\n",
              "\n",
              "\n",
              "    <div id=\"df-567a24ce-c55a-43cc-83e0-cbb01fd97821\">\n",
              "      <button class=\"colab-df-quickchart\" onclick=\"quickchart('df-567a24ce-c55a-43cc-83e0-cbb01fd97821')\"\n",
              "                title=\"Suggest charts\"\n",
              "                style=\"display:none;\">\n",
              "\n",
              "<svg xmlns=\"http://www.w3.org/2000/svg\" height=\"24px\"viewBox=\"0 0 24 24\"\n",
              "     width=\"24px\">\n",
              "    <g>\n",
              "        <path d=\"M19 3H5c-1.1 0-2 .9-2 2v14c0 1.1.9 2 2 2h14c1.1 0 2-.9 2-2V5c0-1.1-.9-2-2-2zM9 17H7v-7h2v7zm4 0h-2V7h2v10zm4 0h-2v-4h2v4z\"/>\n",
              "    </g>\n",
              "</svg>\n",
              "      </button>\n",
              "\n",
              "<style>\n",
              "  .colab-df-quickchart {\n",
              "      --bg-color: #E8F0FE;\n",
              "      --fill-color: #1967D2;\n",
              "      --hover-bg-color: #E2EBFA;\n",
              "      --hover-fill-color: #174EA6;\n",
              "      --disabled-fill-color: #AAA;\n",
              "      --disabled-bg-color: #DDD;\n",
              "  }\n",
              "\n",
              "  [theme=dark] .colab-df-quickchart {\n",
              "      --bg-color: #3B4455;\n",
              "      --fill-color: #D2E3FC;\n",
              "      --hover-bg-color: #434B5C;\n",
              "      --hover-fill-color: #FFFFFF;\n",
              "      --disabled-bg-color: #3B4455;\n",
              "      --disabled-fill-color: #666;\n",
              "  }\n",
              "\n",
              "  .colab-df-quickchart {\n",
              "    background-color: var(--bg-color);\n",
              "    border: none;\n",
              "    border-radius: 50%;\n",
              "    cursor: pointer;\n",
              "    display: none;\n",
              "    fill: var(--fill-color);\n",
              "    height: 32px;\n",
              "    padding: 0;\n",
              "    width: 32px;\n",
              "  }\n",
              "\n",
              "  .colab-df-quickchart:hover {\n",
              "    background-color: var(--hover-bg-color);\n",
              "    box-shadow: 0 1px 2px rgba(60, 64, 67, 0.3), 0 1px 3px 1px rgba(60, 64, 67, 0.15);\n",
              "    fill: var(--button-hover-fill-color);\n",
              "  }\n",
              "\n",
              "  .colab-df-quickchart-complete:disabled,\n",
              "  .colab-df-quickchart-complete:disabled:hover {\n",
              "    background-color: var(--disabled-bg-color);\n",
              "    fill: var(--disabled-fill-color);\n",
              "    box-shadow: none;\n",
              "  }\n",
              "\n",
              "  .colab-df-spinner {\n",
              "    border: 2px solid var(--fill-color);\n",
              "    border-color: transparent;\n",
              "    border-bottom-color: var(--fill-color);\n",
              "    animation:\n",
              "      spin 1s steps(1) infinite;\n",
              "  }\n",
              "\n",
              "  @keyframes spin {\n",
              "    0% {\n",
              "      border-color: transparent;\n",
              "      border-bottom-color: var(--fill-color);\n",
              "      border-left-color: var(--fill-color);\n",
              "    }\n",
              "    20% {\n",
              "      border-color: transparent;\n",
              "      border-left-color: var(--fill-color);\n",
              "      border-top-color: var(--fill-color);\n",
              "    }\n",
              "    30% {\n",
              "      border-color: transparent;\n",
              "      border-left-color: var(--fill-color);\n",
              "      border-top-color: var(--fill-color);\n",
              "      border-right-color: var(--fill-color);\n",
              "    }\n",
              "    40% {\n",
              "      border-color: transparent;\n",
              "      border-right-color: var(--fill-color);\n",
              "      border-top-color: var(--fill-color);\n",
              "    }\n",
              "    60% {\n",
              "      border-color: transparent;\n",
              "      border-right-color: var(--fill-color);\n",
              "    }\n",
              "    80% {\n",
              "      border-color: transparent;\n",
              "      border-right-color: var(--fill-color);\n",
              "      border-bottom-color: var(--fill-color);\n",
              "    }\n",
              "    90% {\n",
              "      border-color: transparent;\n",
              "      border-bottom-color: var(--fill-color);\n",
              "    }\n",
              "  }\n",
              "</style>\n",
              "\n",
              "      <script>\n",
              "        async function quickchart(key) {\n",
              "          const quickchartButtonEl =\n",
              "            document.querySelector('#' + key + ' button');\n",
              "          quickchartButtonEl.disabled = true;  // To prevent multiple clicks.\n",
              "          quickchartButtonEl.classList.add('colab-df-spinner');\n",
              "          try {\n",
              "            const charts = await google.colab.kernel.invokeFunction(\n",
              "                'suggestCharts', [key], {});\n",
              "          } catch (error) {\n",
              "            console.error('Error during call to suggestCharts:', error);\n",
              "          }\n",
              "          quickchartButtonEl.classList.remove('colab-df-spinner');\n",
              "          quickchartButtonEl.classList.add('colab-df-quickchart-complete');\n",
              "        }\n",
              "        (() => {\n",
              "          let quickchartButtonEl =\n",
              "            document.querySelector('#df-567a24ce-c55a-43cc-83e0-cbb01fd97821 button');\n",
              "          quickchartButtonEl.style.display =\n",
              "            google.colab.kernel.accessAllowed ? 'block' : 'none';\n",
              "        })();\n",
              "      </script>\n",
              "    </div>\n",
              "\n",
              "    </div>\n",
              "  </div>\n"
            ],
            "application/vnd.google.colaboratory.intrinsic+json": {
              "type": "dataframe",
              "variable_name": "chess_games"
            }
          },
          "metadata": {},
          "execution_count": 15
        }
      ]
    },
    {
      "metadata": {
        "id": "jhdWRVsVsfPB"
      },
      "cell_type": "markdown",
      "source": [
        "# Clean Data"
      ]
    },
    {
      "metadata": {
        "id": "1uczcM2LsfPB"
      },
      "cell_type": "markdown",
      "source": [
        "We calculate a threshold in hours for a match:"
      ]
    },
    {
      "metadata": {
        "trusted": true,
        "id": "F2junY7CsfPB",
        "outputId": "b2e87944-5c9a-42a3-d5a7-d62938da04ff",
        "colab": {
          "base_uri": "https://localhost:8080/"
        }
      },
      "cell_type": "code",
      "source": [
        "max_minutes = chess_games['minutes'].max()\n",
        "max_incr_seconds = chess_games['incr_seconds'].max()\n",
        "mean_moves = chess_games['turns'].mean()\n",
        "\n",
        "duration_threshold_in_hours = (max_minutes + max_incr_seconds / 60 * mean_moves) / 60\n",
        "duration_threshold_in_hours"
      ],
      "execution_count": null,
      "outputs": [
        {
          "output_type": "execute_result",
          "data": {
            "text/plain": [
              "np.float64(6.0232999302024135)"
            ]
          },
          "metadata": {},
          "execution_count": 16
        }
      ]
    },
    {
      "metadata": {
        "id": "Fyq3N0DosfPB"
      },
      "cell_type": "markdown",
      "source": [
        "So, we remove the matches which have until 3 turns (not possible to checkmate in 3 turns), and the ones with duration until 6 hours."
      ]
    },
    {
      "metadata": {
        "trusted": true,
        "id": "EmUQfgKvsfPB"
      },
      "cell_type": "code",
      "source": [
        "chess_games = chess_games[chess_games['turns'] > 3]\n",
        "chess_games = chess_games[chess_games['duration_in_seconds'] < duration_threshold_in_hours * 3600]"
      ],
      "execution_count": null,
      "outputs": []
    },
    {
      "metadata": {
        "trusted": true,
        "id": "HgdhzjXJsfPB",
        "outputId": "7f456e90-b2ca-431a-e97a-5e262bf41e61",
        "colab": {
          "base_uri": "https://localhost:8080/"
        }
      },
      "cell_type": "code",
      "source": [
        "chess_games.shape"
      ],
      "execution_count": null,
      "outputs": [
        {
          "output_type": "execute_result",
          "data": {
            "text/plain": [
              "(19766, 26)"
            ]
          },
          "metadata": {},
          "execution_count": 18
        }
      ]
    },
    {
      "metadata": {
        "id": "Ydq5gqzRsfPB"
      },
      "cell_type": "markdown",
      "source": [
        "We see we have also matches which have 0 seconds."
      ]
    },
    {
      "metadata": {
        "trusted": true,
        "id": "8ewuucz5sfPC",
        "outputId": "b4d0a4ae-9dbf-437e-889b-a4c28e32e4e4",
        "colab": {
          "base_uri": "https://localhost:8080/",
          "height": 210
        }
      },
      "cell_type": "code",
      "source": [
        "duration0 = chess_games[chess_games['duration_in_seconds'] == 0]\n",
        "duration0['winner'].value_counts()"
      ],
      "execution_count": null,
      "outputs": [
        {
          "output_type": "execute_result",
          "data": {
            "text/plain": [
              "winner\n",
              "white    4207\n",
              "black    3910\n",
              "draw      355\n",
              "Name: count, dtype: int64"
            ],
            "text/html": [
              "<div>\n",
              "<style scoped>\n",
              "    .dataframe tbody tr th:only-of-type {\n",
              "        vertical-align: middle;\n",
              "    }\n",
              "\n",
              "    .dataframe tbody tr th {\n",
              "        vertical-align: top;\n",
              "    }\n",
              "\n",
              "    .dataframe thead th {\n",
              "        text-align: right;\n",
              "    }\n",
              "</style>\n",
              "<table border=\"1\" class=\"dataframe\">\n",
              "  <thead>\n",
              "    <tr style=\"text-align: right;\">\n",
              "      <th></th>\n",
              "      <th>count</th>\n",
              "    </tr>\n",
              "    <tr>\n",
              "      <th>winner</th>\n",
              "      <th></th>\n",
              "    </tr>\n",
              "  </thead>\n",
              "  <tbody>\n",
              "    <tr>\n",
              "      <th>white</th>\n",
              "      <td>4207</td>\n",
              "    </tr>\n",
              "    <tr>\n",
              "      <th>black</th>\n",
              "      <td>3910</td>\n",
              "    </tr>\n",
              "    <tr>\n",
              "      <th>draw</th>\n",
              "      <td>355</td>\n",
              "    </tr>\n",
              "  </tbody>\n",
              "</table>\n",
              "</div><br><label><b>dtype:</b> int64</label>"
            ]
          },
          "metadata": {},
          "execution_count": 19
        }
      ]
    },
    {
      "metadata": {
        "id": "IFjO_kP9sfPC"
      },
      "cell_type": "markdown",
      "source": [
        "Let's see the distribution of the matches' duration:"
      ]
    },
    {
      "metadata": {
        "trusted": true,
        "id": "pa5j7QNjsfPC",
        "outputId": "aece375c-5c27-4b43-82d9-e71189718944",
        "colab": {
          "base_uri": "https://localhost:8080/",
          "height": 472
        }
      },
      "cell_type": "code",
      "source": [
        "pyplot.hist(x=chess_games['duration_in_seconds'], bins=100)\n",
        "pyplot.xlabel('Duration (in seconds)')\n",
        "pyplot.ylabel('Frequency')\n",
        "pyplot.title('Matches\\' Durations')\n",
        "pyplot.show()"
      ],
      "execution_count": null,
      "outputs": [
        {
          "output_type": "display_data",
          "data": {
            "text/plain": [
              "<Figure size 640x480 with 1 Axes>"
            ],
            "image/png": "[encoded data removed]"
          },
          "metadata": {}
        }
      ]
    },
    {
      "metadata": {
        "id": "o3TCCuY7sfPC"
      },
      "cell_type": "markdown",
      "source": [
        "Let's filter the matches with duration_in_seconds > 0."
      ]
    },
    {
      "metadata": {
        "trusted": true,
        "id": "diLk8IXhsfPC"
      },
      "cell_type": "code",
      "source": [
        "chess_games = chess_games[chess_games['duration_in_seconds'] > 0]"
      ],
      "execution_count": null,
      "outputs": []
    },
    {
      "metadata": {
        "trusted": true,
        "id": "YcDBjX2xsfPJ",
        "outputId": "db71acc1-1615-4ba1-e990-bd589443d561",
        "colab": {
          "base_uri": "https://localhost:8080/"
        }
      },
      "cell_type": "code",
      "source": [
        "chess_games.shape"
      ],
      "execution_count": null,
      "outputs": [
        {
          "output_type": "execute_result",
          "data": {
            "text/plain": [
              "(11294, 26)"
            ]
          },
          "metadata": {},
          "execution_count": 22
        }
      ]
    },
    {
      "metadata": {
        "id": "OQRJEzAVsfPJ"
      },
      "cell_type": "markdown",
      "source": [
        "Reploting the durations, without the zeroes:"
      ]
    },
    {
      "metadata": {
        "trusted": true,
        "id": "_U43dOJUsfPJ",
        "outputId": "29f737db-6806-4d41-ca53-3425d0bb6dcb",
        "colab": {
          "base_uri": "https://localhost:8080/",
          "height": 472
        }
      },
      "cell_type": "code",
      "source": [
        "pyplot.hist(x=chess_games['duration_in_seconds'], bins=100)\n",
        "pyplot.xlabel('Duration (in seconds)')\n",
        "pyplot.ylabel('Frequency')\n",
        "pyplot.title('Matches\\' Durations')\n",
        "pyplot.show()"
      ],
      "execution_count": null,
      "outputs": [
        {
          "output_type": "display_data",
          "data": {
            "text/plain": [
              "<Figure size 640x480 with 1 Axes>"
            ],
            "image/png": "[encoded data removed]"
          },
          "metadata": {}
        }
      ]
    },
    {
      "metadata": {
        "id": "AxOJTL14sfPK"
      },
      "cell_type": "markdown",
      "source": [
        "The peak at ~10000 s = ~2.7 hours is a plausible match duration."
      ]
    },
    {
      "metadata": {
        "id": "3_ElTh9ksfPK"
      },
      "cell_type": "markdown",
      "source": [
        "# Baseline"
      ]
    },
    {
      "metadata": {
        "id": "cXTgi1Q9sfPK"
      },
      "cell_type": "markdown",
      "source": [
        "Let's take as **baseline case** the result as a function of the rating difference points (diff):\n",
        "\n",
        "If\n",
        "* \\- (mean difference)  < diff < (mean difference)  => draw;\n",
        "* else, diff is negative => black wins\n",
        "* else => white wins"
      ]
    },
    {
      "metadata": {
        "trusted": true,
        "id": "GWStrZg9sfPK",
        "outputId": "74289f04-cd39-45eb-8e67-135b6eb5baa5",
        "colab": {
          "base_uri": "https://localhost:8080/"
        }
      },
      "cell_type": "code",
      "source": [
        "baseline = pd.DataFrame(index=chess_games.index)\n",
        "baseline['rating_difference'] = chess_games['rating_difference']\n",
        "baseline.shape"
      ],
      "execution_count": null,
      "outputs": [
        {
          "output_type": "execute_result",
          "data": {
            "text/plain": [
              "(11294, 1)"
            ]
          },
          "metadata": {},
          "execution_count": 24
        }
      ]
    },
    {
      "metadata": {
        "trusted": true,
        "id": "p1axGMrOsfPK",
        "outputId": "384d313b-db29-408b-dffb-42c89dbfef1d",
        "colab": {
          "base_uri": "https://localhost:8080/"
        }
      },
      "cell_type": "code",
      "source": [
        "baseline['rating_difference'].mean()"
      ],
      "execution_count": null,
      "outputs": [
        {
          "output_type": "execute_result",
          "data": {
            "text/plain": [
              "np.float64(7.085532140959802)"
            ]
          },
          "metadata": {},
          "execution_count": 25
        }
      ]
    },
    {
      "metadata": {
        "trusted": true,
        "id": "-IDlP1JmsfPK",
        "outputId": "6f2015e7-06a8-439d-c3b3-6e42edd4862e",
        "colab": {
          "base_uri": "https://localhost:8080/",
          "height": 210
        }
      },
      "cell_type": "code",
      "source": [
        "def get_base_winner(rating_diff):\n",
        "    average = baseline['rating_difference'].mean()\n",
        "    if rating_diff < average and rating_diff > -average:\n",
        "        return 'draw'\n",
        "    elif rating_diff < 0:\n",
        "        return 'black'\n",
        "    else:\n",
        "        return 'white'\n",
        "\n",
        "baseline['winner'] = baseline['rating_difference'].apply(get_base_winner)\n",
        "baseline['winner'].value_counts()"
      ],
      "execution_count": null,
      "outputs": [
        {
          "output_type": "execute_result",
          "data": {
            "text/plain": [
              "winner\n",
              "white    5505\n",
              "black    5201\n",
              "draw      588\n",
              "Name: count, dtype: int64"
            ],
            "text/html": [
              "<div>\n",
              "<style scoped>\n",
              "    .dataframe tbody tr th:only-of-type {\n",
              "        vertical-align: middle;\n",
              "    }\n",
              "\n",
              "    .dataframe tbody tr th {\n",
              "        vertical-align: top;\n",
              "    }\n",
              "\n",
              "    .dataframe thead th {\n",
              "        text-align: right;\n",
              "    }\n",
              "</style>\n",
              "<table border=\"1\" class=\"dataframe\">\n",
              "  <thead>\n",
              "    <tr style=\"text-align: right;\">\n",
              "      <th></th>\n",
              "      <th>count</th>\n",
              "    </tr>\n",
              "    <tr>\n",
              "      <th>winner</th>\n",
              "      <th></th>\n",
              "    </tr>\n",
              "  </thead>\n",
              "  <tbody>\n",
              "    <tr>\n",
              "      <th>white</th>\n",
              "      <td>5505</td>\n",
              "    </tr>\n",
              "    <tr>\n",
              "      <th>black</th>\n",
              "      <td>5201</td>\n",
              "    </tr>\n",
              "    <tr>\n",
              "      <th>draw</th>\n",
              "      <td>588</td>\n",
              "    </tr>\n",
              "  </tbody>\n",
              "</table>\n",
              "</div><br><label><b>dtype:</b> int64</label>"
            ]
          },
          "metadata": {},
          "execution_count": 26
        }
      ]
    },
    {
      "metadata": {
        "id": "sYl64ocPsfPK"
      },
      "cell_type": "markdown",
      "source": [
        "Let's use the **weighted avg precison** and **weighted avg recall** as our modeling metrics, so we balance the different quantities of examples for each result."
      ]
    },
    {
      "metadata": {
        "trusted": true,
        "id": "G1dEZCZBsfPL"
      },
      "cell_type": "code",
      "source": [
        "from sklearn.metrics import precision_recall_fscore_support, classification_report"
      ],
      "execution_count": null,
      "outputs": []
    },
    {
      "metadata": {
        "trusted": true,
        "id": "JzTnVSg3sfPL",
        "outputId": "b8f5dc2d-2507-4a68-eb81-fd5bc24c7753",
        "colab": {
          "base_uri": "https://localhost:8080/"
        }
      },
      "cell_type": "code",
      "source": [
        "print(classification_report(chess_games['winner'], baseline['winner'], digits=4))"
      ],
      "execution_count": null,
      "outputs": [
        {
          "output_type": "stream",
          "name": "stdout",
          "text": [
            "              precision    recall  f1-score   support\n",
            "\n",
            "       black     0.5978    0.6127    0.6052      5074\n",
            "        draw     0.0544    0.0551    0.0547       581\n",
            "       white     0.6449    0.6295    0.6371      5639\n",
            "\n",
            "    accuracy                         0.5924     11294\n",
            "   macro avg     0.4324    0.4325    0.4323     11294\n",
            "weighted avg     0.5933    0.5924    0.5928     11294\n",
            "\n"
          ]
        }
      ]
    },
    {
      "metadata": {
        "id": "OiXCwhi6sfPL"
      },
      "cell_type": "markdown",
      "source": [
        "p 0.5933, recall 0.5924 - Baseline"
      ]
    },
    {
      "metadata": {
        "id": "weUyjCcVsfPL"
      },
      "cell_type": "markdown",
      "source": [
        "Looking how to capture the **weighted avg precison**, we use its definition: _weighted_avg_precision = weighted_avg(precision, support)_"
      ]
    },
    {
      "metadata": {
        "trusted": true,
        "id": "A0_HMzCCsfPL",
        "outputId": "209c61c2-43e3-4712-9e1d-d858223c3137",
        "colab": {
          "base_uri": "https://localhost:8080/"
        }
      },
      "cell_type": "code",
      "source": [
        "results = precision_recall_fscore_support(chess_games['winner'], baseline['winner'])\n",
        "np.average(results[0], weights=results[3])"
      ],
      "execution_count": null,
      "outputs": [
        {
          "output_type": "execute_result",
          "data": {
            "text/plain": [
              "np.float64(0.5933340404857875)"
            ]
          },
          "metadata": {},
          "execution_count": 29
        }
      ]
    },
    {
      "metadata": {
        "id": "AaRR2WlasfPM"
      },
      "cell_type": "markdown",
      "source": [
        "# Constructing the model"
      ]
    },
    {
      "metadata": {
        "id": "OTAUxbGxsfPM"
      },
      "cell_type": "markdown",
      "source": [
        "We import the Random Forest Classifier."
      ]
    },
    {
      "metadata": {
        "trusted": true,
        "id": "j9AHG4KGsfPM"
      },
      "cell_type": "code",
      "source": [
        "from sklearn.ensemble import RandomForestClassifier\n",
        "from sklearn.model_selection import train_test_split"
      ],
      "execution_count": null,
      "outputs": []
    },
    {
      "metadata": {
        "id": "Nuai3LCcsfPM"
      },
      "cell_type": "markdown",
      "source": [
        "Let's use the following variables to make the model:\n",
        "\n",
        "(we include castled, takes quantity, rating difference)"
      ]
    },
    {
      "metadata": {
        "trusted": true,
        "id": "YcQsyCTesfPM"
      },
      "cell_type": "code",
      "source": [
        "variables = ['victory_status_outoftime', 'victory_status_resign', 'victory_status_mate', 'victory_status_draw',\n",
        "             'white_rating', 'black_rating', 'minutes', 'incr_seconds', 'rating_difference',\n",
        "             'white_castled', 'black_castled', 'white_takes_count', 'black_takes_count']"
      ],
      "execution_count": null,
      "outputs": []
    },
    {
      "metadata": {
        "id": "n6tDcPQEsfPM"
      },
      "cell_type": "markdown",
      "source": [
        "As the dataset is small, let's divide 50% train / 50% validation."
      ]
    },
    {
      "metadata": {
        "trusted": true,
        "id": "2MvtLBxGsfPN",
        "outputId": "cc9eb5d3-5be9-48ca-827e-c76587787c7b",
        "colab": {
          "base_uri": "https://localhost:8080/"
        }
      },
      "cell_type": "code",
      "source": [
        "print(chess_games.columns)\n",
        "#from category_encoders import OneHotEncoder\n",
        "\n",
        "#ohe_victory_status = OneHotEncoder(cols=['victory_status'], use_cat_names=True, drop_invariant=True)\n",
        "#chess_games = ohe_victory_status.fit_transform(chess_games)\n",
        "\n",
        "X = chess_games[variables]\n",
        "y = chess_games['winner']\n",
        "X_train, X_valid, y_train, y_valid = train_test_split(X, y, test_size=0.5)"
      ],
      "execution_count": null,
      "outputs": [
        {
          "output_type": "stream",
          "name": "stdout",
          "text": [
            "Index(['id', 'rated', 'created_at', 'last_move_at', 'turns',\n",
            "       'victory_status_outoftime', 'victory_status_resign',\n",
            "       'victory_status_mate', 'victory_status_draw', 'winner', 'white_id',\n",
            "       'white_rating', 'black_id', 'black_rating', 'moves', 'opening_eco',\n",
            "       'opening_name', 'opening_ply', 'duration_in_seconds', 'minutes',\n",
            "       'incr_seconds', 'rating_difference', 'white_castled', 'black_castled',\n",
            "       'white_takes_count', 'black_takes_count'],\n",
            "      dtype='object')\n"
          ]
        }
      ]
    },
    {
      "metadata": {
        "trusted": true,
        "id": "RCW-0Yt3sfPN",
        "outputId": "38d838d5-d2d2-4059-8465-90f5b89d75ff",
        "colab": {
          "base_uri": "https://localhost:8080/"
        }
      },
      "cell_type": "code",
      "source": [
        "X_train.shape, X_valid.shape, y_train.shape, y_valid.shape"
      ],
      "execution_count": null,
      "outputs": [
        {
          "output_type": "execute_result",
          "data": {
            "text/plain": [
              "((5647, 13), (5647, 13), (5647,), (5647,))"
            ]
          },
          "metadata": {},
          "execution_count": 33
        }
      ]
    },
    {
      "metadata": {
        "id": "D57KRcCNsfPN"
      },
      "cell_type": "markdown",
      "source": [
        "We train the model."
      ]
    },
    {
      "metadata": {
        "trusted": true,
        "id": "fqBz5ycqsfPN",
        "outputId": "6586fb53-b6cb-40f3-b5a4-beb42939ac16",
        "colab": {
          "base_uri": "https://localhost:8080/"
        }
      },
      "cell_type": "code",
      "source": [
        "model = RandomForestClassifier(n_estimators=200, n_jobs=-1, random_state=0)\n",
        "model.fit(X_train, y_train)\n",
        "\n",
        "predicted = model.predict(X_valid)\n",
        "\n",
        "results = precision_recall_fscore_support(y_valid, predicted)\n",
        "support = results[3]\n",
        "prec = np.average(results[0], weights=support)\n",
        "recall = np.average(results[1], weights=support)\n",
        "print(\"Precision: {}\".format(prec))\n",
        "print(\"Recall: {}\".format(recall))\n",
        "print()"
      ],
      "execution_count": null,
      "outputs": [
        {
          "output_type": "stream",
          "name": "stdout",
          "text": [
            "Precision: 0.8113848551545693\n",
            "Recall: 0.8110501151053657\n",
            "\n"
          ]
        }
      ]
    },
    {
      "metadata": {
        "id": "g4WxlMg4sfPN"
      },
      "cell_type": "markdown",
      "source": [
        "We have a great increase of both the metrics using the variables **white_takes_count, black_takes_count.**"
      ]
    },
    {
      "metadata": {
        "id": "O6kQ6DbzsfPO"
      },
      "cell_type": "markdown",
      "source": [
        "# Cross-validation"
      ]
    },
    {
      "metadata": {
        "id": "P1PE36iYsfPO"
      },
      "cell_type": "markdown",
      "source": [
        "In order to have a better estimate of the metrics, let's use KFold to do cross-validation of the data."
      ]
    },
    {
      "metadata": {
        "trusted": true,
        "id": "AjEE8DHnsfPO"
      },
      "cell_type": "code",
      "source": [
        "from sklearn.model_selection import RepeatedKFold"
      ],
      "execution_count": null,
      "outputs": []
    },
    {
      "metadata": {
        "trusted": true,
        "id": "XHwm9kgXsfPO",
        "outputId": "9b599eb1-34e8-4769-ed0e-8363add7d3dd",
        "colab": {
          "base_uri": "https://localhost:8080/"
        }
      },
      "cell_type": "code",
      "source": [
        "avg_weighted_precisions = []\n",
        "avg_weighted_recalls = []\n",
        "kf = RepeatedKFold(n_splits=2, n_repeats=10, random_state=0)\n",
        "\n",
        "X = chess_games[variables]\n",
        "y = chess_games['winner']\n",
        "i = 0\n",
        "\n",
        "for lines_train, lines_valid in kf.split(chess_games):\n",
        "    X_train, y_train = X.iloc[lines_train], y.iloc[lines_train]\n",
        "    X_valid, y_valid = X.iloc[lines_valid], y.iloc[lines_valid]\n",
        "    i = i + 1\n",
        "\n",
        "    model = RandomForestClassifier(n_estimators=200, n_jobs=-1, random_state=0)\n",
        "    model.fit(X_train, y_train)\n",
        "\n",
        "    predicted = model.predict(X_valid)\n",
        "\n",
        "    results = precision_recall_fscore_support(y_valid, predicted)\n",
        "    support = results[3]\n",
        "    prec = np.average(results[0], weights=support)\n",
        "    recall = np.average(results[1], weights=support)\n",
        "    print(\"Iteration  #{}\".format(i))\n",
        "    print(\"=====================\")\n",
        "    print(\"Precision: {}\".format(prec))\n",
        "    print(\"Recall: {}\".format(recall))\n",
        "    print()\n",
        "\n",
        "    avg_weighted_precisions.append(prec)\n",
        "    avg_weighted_recalls.append(recall)\n",
        "\n",
        "print(\"Average Precision: {}\".format(np.mean(avg_weighted_precisions)))\n",
        "print(\"Average Recall: {}\".format(np.mean(avg_weighted_recalls)))"
      ],
      "execution_count": null,
      "outputs": [
        {
          "output_type": "stream",
          "name": "stdout",
          "text": [
            "Iteration  #1\n",
            "=====================\n",
            "Precision: 0.8022068393254235\n",
            "Recall: 0.8018416858508943\n",
            "\n",
            "Iteration  #2\n",
            "=====================\n",
            "Precision: 0.8165330384935984\n",
            "Recall: 0.8161855852665132\n",
            "\n",
            "Iteration  #3\n",
            "=====================\n",
            "Precision: 0.8102628042847981\n",
            "Recall: 0.8099876040375421\n",
            "\n",
            "Iteration  #4\n",
            "=====================\n",
            "Precision: 0.8040823274535771\n",
            "Recall: 0.8034354524526297\n",
            "\n",
            "Iteration  #5\n",
            "=====================\n",
            "Precision: 0.8250654736875628\n",
            "Recall: 0.8246856738091022\n",
            "\n",
            "Iteration  #6\n",
            "=====================\n",
            "Precision: 0.8003204821092943\n",
            "Recall: 0.8002479192491588\n",
            "\n",
            "Iteration  #7\n",
            "=====================\n",
            "Precision: 0.8149214336749095\n",
            "Recall: 0.8144147334868072\n",
            "\n",
            "Iteration  #8\n",
            "=====================\n",
            "Precision: 0.8084545119681279\n",
            "Recall: 0.8075084115459537\n",
            "\n",
            "Iteration  #9\n",
            "=====================\n",
            "Precision: 0.80302163023574\n",
            "Recall: 0.8027271117407473\n",
            "\n",
            "Iteration  #10\n",
            "=====================\n",
            "Precision: 0.8097903587818706\n",
            "Recall: 0.8094563485036302\n",
            "\n",
            "Iteration  #11\n",
            "=====================\n",
            "Precision: 0.810279226334315\n",
            "Recall: 0.8101646892155127\n",
            "\n",
            "Iteration  #12\n",
            "=====================\n",
            "Precision: 0.8075850298669162\n",
            "Recall: 0.8071542411900124\n",
            "\n",
            "Iteration  #13\n",
            "=====================\n",
            "Precision: 0.803472458272922\n",
            "Recall: 0.8030812820966885\n",
            "\n",
            "Iteration  #14\n",
            "=====================\n",
            "Precision: 0.8054476658952456\n",
            "Recall: 0.8052063042323357\n",
            "\n",
            "Iteration  #15\n",
            "=====================\n",
            "Precision: 0.8000977504069785\n",
            "Recall: 0.7997166637152471\n",
            "\n",
            "Iteration  #16\n",
            "=====================\n",
            "Precision: 0.8107721924935377\n",
            "Recall: 0.8105188595714539\n",
            "\n",
            "Iteration  #17\n",
            "=====================\n",
            "Precision: 0.8086657388437003\n",
            "Recall: 0.8085709226137773\n",
            "\n",
            "Iteration  #18\n",
            "=====================\n",
            "Precision: 0.8034954050271917\n",
            "Recall: 0.8030812820966885\n",
            "\n",
            "Iteration  #19\n",
            "=====================\n",
            "Precision: 0.8162813507954334\n",
            "Recall: 0.8160085000885426\n",
            "\n",
            "Iteration  #20\n",
            "=====================\n",
            "Precision: 0.8005693639181417\n",
            "Recall: 0.8002479192491588\n",
            "\n",
            "Average Precision: 0.8080662540934643\n",
            "Average Recall: 0.8077120595006198\n"
          ]
        }
      ]
    },
    {
      "metadata": {
        "id": "E7se2By3sfPO"
      },
      "cell_type": "markdown",
      "source": [
        "And we see that both the average of precision and the average of recall are near to 80%."
      ]
    },
    {
      "metadata": {
        "id": "k5A9JIKUsfPO"
      },
      "cell_type": "markdown",
      "source": [
        "Let's plot the precision and recall distribution to detect possible outliers:"
      ]
    },
    {
      "metadata": {
        "trusted": true,
        "id": "mNxN2dphsfPO",
        "outputId": "c8c5b278-0f53-4c89-bf9e-e9924fccad9e",
        "colab": {
          "base_uri": "https://localhost:8080/",
          "height": 588
        }
      },
      "cell_type": "code",
      "source": [
        "pylab.subplot(121)\n",
        "pylab.xlabel('Precision')\n",
        "pylab.ylabel('Value')\n",
        "pylab.hist(avg_weighted_precisions, bins=20)\n",
        "\n",
        "pylab.subplot(122)\n",
        "pylab.xlabel('Recall')\n",
        "pylab.hist(avg_weighted_recalls, bins=20)"
      ],
      "execution_count": null,
      "outputs": [
        {
          "output_type": "execute_result",
          "data": {
            "text/plain": [
              "(array([3., 1., 4., 0., 1., 1., 1., 2., 3., 0., 0., 1., 0., 2., 0., 0., 0.,\n",
              "        0., 0., 1.]),\n",
              " array([0.79971666, 0.80096511, 0.80221356, 0.80346202, 0.80471047,\n",
              "        0.80595892, 0.80720737, 0.80845582, 0.80970427, 0.81095272,\n",
              "        0.81220117, 0.81344962, 0.81469807, 0.81594652, 0.81719497,\n",
              "        0.81844342, 0.81969187, 0.82094032, 0.82218877, 0.82343722,\n",
              "        0.82468567]),\n",
              " <BarContainer object of 20 artists>)"
            ]
          },
          "metadata": {},
          "execution_count": 37
        },
        {
          "output_type": "display_data",
          "data": {
            "text/plain": [
              "<Figure size 640x480 with 2 Axes>"
            ],
            "image/png": "[encoded data removed]"
          },
          "metadata": {}
        }
      ]
    },
    {
      "metadata": {
        "id": "zylrJhwisfPP"
      },
      "cell_type": "markdown",
      "source": [
        "The values for both the metrics lie in the interval [0.80, 0.82], which is not a big range of values. We haven't detected outliers."
      ]
    },
    {
      "metadata": {
        "id": "BpALG96xsfPP"
      },
      "cell_type": "markdown",
      "source": [
        "Here are some other configurations tested in order to achieve this first model with metrics around 80%:\n",
        "\n",
        "* p 0.5933, recall 0.5924 - Baseline\n",
        "\n",
        "* p 0.6477, recall 0.6473 - Random Forest (n=100)\n",
        "\n",
        "* p 0.6512, recall 0.6508 - Random Forest (n=200) with 'castled' variables\n",
        "\n",
        "* p 0.8081, recall 0.8077 - Random Forest (n=200) with 'castled' and 'takes_count' variables"
      ]
    },
    {
      "metadata": {
        "id": "EdJYLFD7sfPP"
      },
      "cell_type": "markdown",
      "source": [
        "As we can see, we have a great improvement of the performance when we add 'takes_count' variables."
      ]
    }
  ],
  "metadata": {
    "kernelspec": {
      "language": "python",
      "display_name": "Python 3",
      "name": "python3"
    },
    "language_info": {
      "pygments_lexer": "ipython3",
      "nbconvert_exporter": "python",
      "version": "3.6.4",
      "file_extension": ".py",
      "codemirror_mode": {
        "name": "ipython",
        "version": 3
      },
      "name": "python",
      "mimetype": "text/x-python"
    },
    "colab": {
      "provenance": []
    }
  },
  "nbformat": 4,
  "nbformat_minor": 0
}